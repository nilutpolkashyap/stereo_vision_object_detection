{
 "cells": [
  {
   "cell_type": "code",
   "execution_count": 13,
   "metadata": {},
   "outputs": [],
   "source": [
    "import numpy as np\n",
    "import cv2\n",
    "import depthai as dai"
   ]
  },
  {
   "cell_type": "code",
   "execution_count": 14,
   "metadata": {},
   "outputs": [],
   "source": [
    "%config Completer.use_jedi = False"
   ]
  },
  {
   "cell_type": "code",
   "execution_count": 26,
   "metadata": {},
   "outputs": [],
   "source": [
    "num = 1"
   ]
  },
  {
   "cell_type": "code",
   "execution_count": 16,
   "metadata": {},
   "outputs": [],
   "source": [
    "def getFrame(queue):\n",
    "    # Get frame from queue\n",
    "    frame = queue.get()\n",
    "    # Convert frame to OpenCV format and return\n",
    "    return frame.getCvFrame()"
   ]
  },
  {
   "cell_type": "code",
   "execution_count": 17,
   "metadata": {},
   "outputs": [],
   "source": [
    "def getMonoCamera(pipeline, isLeft):\n",
    "    # Configure mono camera\n",
    "    mono = pipeline.createMonoCamera()\n",
    "\n",
    "    # Set Camera Resolution\n",
    "    mono.setResolution(dai.MonoCameraProperties.SensorResolution.THE_400_P)\n",
    "    \n",
    "    if isLeft:\n",
    "        # Get left camera\n",
    "        mono.setBoardSocket(dai.CameraBoardSocket.LEFT)\n",
    "    else :\n",
    "        # Get right camera\n",
    "        mono.setBoardSocket(dai.CameraBoardSocket.RIGHT)\n",
    "    return mono"
   ]
  },
  {
   "cell_type": "code",
   "execution_count": 33,
   "metadata": {},
   "outputs": [],
   "source": [
    "num = 0\n",
    "\n",
    "if __name__ == '__main__':\n",
    "    pipeline = dai.Pipeline()\n",
    "    \n",
    "    # Set up left and right cameras\n",
    "    monoLeft = getMonoCamera(pipeline, isLeft = True)\n",
    "    monoRight = getMonoCamera(pipeline, isLeft = False)\n",
    "    \n",
    "    # Set output Xlink for left camera\n",
    "    xoutLeft = pipeline.createXLinkOut()\n",
    "    xoutLeft.setStreamName(\"left\")\n",
    "    \n",
    "    # Set output Xlink for right camera\n",
    "    xoutRight = pipeline.createXLinkOut()\n",
    "    xoutRight.setStreamName(\"right\")\n",
    "    \n",
    "    # Attach cameras to output Xlink\n",
    "    monoLeft.out.link(xoutLeft.input)\n",
    "    monoRight.out.link(xoutRight.input)\n",
    "    \n",
    "    with dai.Device(pipeline) as device:\n",
    "        \n",
    "        # Get output queues. \n",
    "        leftQueue = device.getOutputQueue(name=\"left\", maxSize=1)\n",
    "        rightQueue = device.getOutputQueue(name=\"right\", maxSize=1)\n",
    "        \n",
    "        while(True):\n",
    "            leftFrame = getFrame(leftQueue)\n",
    "            rightFrame = getFrame(rightQueue)\n",
    "            \n",
    "            cv2.imshow(\"Left Frame\", leftFrame)\n",
    "            cv2.imshow(\"Right Frame\", rightFrame)\n",
    "            \n",
    "            key = cv2.waitKey(1)\n",
    "            if key == ord('q'):\n",
    "                break\n",
    "                \n",
    "            elif key == ord('s'):\n",
    "                cv2.imwrite('images/stereoLeft/imageL' + str(num) + '.png', leftFrame)\n",
    "                cv2.imwrite('images/stereoright/imageR' + str(num) + '.png', rightFrame)\n",
    "                print(\"images saved!\")\n",
    "                num += 1\n",
    "                \n",
    "cv2.destroyAllWindows()"
   ]
  },
  {
   "cell_type": "code",
   "execution_count": 12,
   "metadata": {},
   "outputs": [],
   "source": [
    "cv2.destroyAllWindows()"
   ]
  },
  {
   "cell_type": "code",
   "execution_count": null,
   "metadata": {},
   "outputs": [],
   "source": []
  }
 ],
 "metadata": {
  "kernelspec": {
   "display_name": "tfgpu",
   "language": "python",
   "name": "tfgpu"
  },
  "language_info": {
   "codemirror_mode": {
    "name": "ipython",
    "version": 3
   },
   "file_extension": ".py",
   "mimetype": "text/x-python",
   "name": "python",
   "nbconvert_exporter": "python",
   "pygments_lexer": "ipython3",
   "version": "3.7.11"
  }
 },
 "nbformat": 4,
 "nbformat_minor": 4
}
